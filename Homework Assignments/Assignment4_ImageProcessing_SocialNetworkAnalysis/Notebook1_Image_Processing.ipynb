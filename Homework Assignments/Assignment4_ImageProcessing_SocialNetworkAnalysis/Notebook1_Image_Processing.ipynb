{
  "nbformat": 4,
  "nbformat_minor": 0,
  "metadata": {
    "colab": {
      "name": "Notebook1_Image_Processing.ipynb",
      "provenance": []
    },
    "kernelspec": {
      "display_name": "Python 3",
      "language": "python",
      "name": "python3"
    },
    "language_info": {
      "codemirror_mode": {
        "name": "ipython",
        "version": 3
      },
      "file_extension": ".py",
      "mimetype": "text/x-python",
      "name": "python",
      "nbconvert_exporter": "python",
      "pygments_lexer": "ipython3",
      "version": "3.8.3"
    }
  },
  "cells": [
    {
      "cell_type": "markdown",
      "metadata": {
        "id": "JaiDIhZ2I0nU"
      },
      "source": [
        "# Image Processing"
      ]
    },
    {
      "cell_type": "markdown",
      "metadata": {
        "id": "5ArbqSP7I4ke"
      },
      "source": [
        "The purpose of this homework is to use data analysis workflows for image processing. \n",
        "\n",
        "For those of you interested in understanding the code, the notebook uses the [numpy](http://numpy.org) library to manage data, the [matplotlib](https://matplotlib.org) library to visualize the results, and an image processing library called [scikit-image](http://scikit-image.org) for the segmenting, smoothing, and edge detection methods."
      ]
    },
    {
      "cell_type": "markdown",
      "metadata": {
        "id": "cGnnHdeLI7Xm"
      },
      "source": [
        "You will be running two different workflows in this notebook:\n",
        "\n",
        "1. Smooth then Segment\n",
        "2. Segment then Canny\n",
        "\n",
        "First, download the data for this assignment."
      ]
    },
    {
      "cell_type": "code",
      "metadata": {
        "id": "Z91Odz7EI_kZ"
      },
      "source": [
        "!wget 'https://github.com/pointandclickinterface/INF549/raw/master/Homework%20Assignments/Assignment4_ImageProcessing_SocialNetworkAnalysis/Image_Processing/longjump.jpg'\n",
        "!wget 'https://github.com/pointandclickinterface/INF549/raw/master/Homework%20Assignments/Assignment4_ImageProcessing_SocialNetworkAnalysis/Image_Processing/rocks.jpg'"
      ],
      "execution_count": null,
      "outputs": []
    },
    {
      "cell_type": "markdown",
      "metadata": {
        "id": "BWdkrYhWJCYy"
      },
      "source": [
        "## 1.Smooth then Segment\n",
        "\n",
        "This section will allow you to smooth and segment images."
      ]
    },
    {
      "cell_type": "markdown",
      "metadata": {
        "id": "v-8MtDmwJFQ_"
      },
      "source": [
        "The following cell contains some predefined functions to implement [watershed segmentation](https://en.wikipedia.org/wiki/Watershed_(image_processing) and smoothing by [Gaussian filters](https://en.wikipedia.org/wiki/Gaussian_blur). Please make sure you have run this cell before you run other cells."
      ]
    },
    {
      "cell_type": "markdown",
      "metadata": {
        "id": "E7HBtor9JImK"
      },
      "source": [
        "### Preliminary Setup\n",
        "\n",
        "The following cell contains some predefined functions to smooth image and segment it. When you run the cell, the definitions of these functions will be incorporated into the notebook."
      ]
    },
    {
      "cell_type": "code",
      "metadata": {
        "id": "aaM-hGiBJC08"
      },
      "source": [
        "from scipy import ndimage as ndi\n",
        "import numpy as np\n",
        "import matplotlib.pyplot as plt\n",
        "from skimage import feature,io,color\n",
        "from skimage.segmentation import watershed\n",
        "from skimage.filters import threshold_otsu,threshold_yen,gaussian\n",
        "\n",
        "\n",
        "def loadIMG():\n",
        "    filename=str(input(\"Please input the image filename:\"))\n",
        "    img = io.imread(filename)\n",
        "    return img\n",
        "\n",
        "def Smooth(img):\n",
        "    smoothedImg = gaussian(img,sigma=2.5,multichannel=True)\n",
        "    return smoothedImg\n",
        "\n",
        "def displaySmooth(img):\n",
        "    plt.clf()\n",
        "    smoothedImg=Smooth(img)\n",
        "    fig, (ax1,ax2) = plt.subplots(nrows=1, ncols=2, figsize=(10, 4),sharex=True,\\\n",
        "                                  sharey=True)\n",
        "    ax1.imshow(img, cmap=plt.cm.gray)\n",
        "    ax1.axis('off')\n",
        "    ax1.set_title('Original Image', fontsize=10)\n",
        "    ax2.imshow(smoothedImg, cmap=plt.cm.gray)\n",
        "    ax2.axis('off')\n",
        "    ax2.set_title('Smoothed Image', fontsize=10)\n",
        "    fig.tight_layout()\n",
        "    plt.show() \n",
        "    \n",
        "def Segment(img):\n",
        "    if len(img.shape)>2:\n",
        "        img = color.rgb2gray(img)\n",
        "    \n",
        "    thresh = threshold_yen(img)\n",
        "    segmentation = img > thresh\n",
        "    return segmentation\n",
        "\n",
        "def displaySegment(img):\n",
        "    plt.clf()\n",
        "    segmentation=Segment(img)\n",
        "    fig, (ax1,ax2) = plt.subplots(nrows=1, ncols=2, figsize=(10, 4),sharex=True,\\\n",
        "                                  sharey=True)\n",
        "    ax1.imshow(img, cmap=plt.cm.gray)\n",
        "    ax1.axis('off')\n",
        "    ax1.set_title('Original Image', fontsize=10)\n",
        "    ax2.imshow(segmentation, cmap=plt.cm.gray)\n",
        "    ax2.axis('off')\n",
        "    ax2.set_title('Segmented Image', fontsize=10)\n",
        "    fig.tight_layout()\n",
        "    plt.show() "
      ],
      "execution_count": 36,
      "outputs": []
    },
    {
      "cell_type": "markdown",
      "metadata": {
        "id": "FBDpyqomJRcI"
      },
      "source": [
        "### Smooth an Image\n",
        "\n",
        "Run the following cell and input the filename of one of the images."
      ]
    },
    {
      "cell_type": "code",
      "metadata": {
        "id": "lgbakLErJRzP"
      },
      "source": [
        "img=loadIMG()\n",
        "displaySmooth(img)"
      ],
      "execution_count": null,
      "outputs": []
    },
    {
      "cell_type": "markdown",
      "metadata": {
        "id": "wrGRiCliJVfD"
      },
      "source": [
        "### Segment an Image\n",
        "\n",
        "Run the following cell to segment the images"
      ]
    },
    {
      "cell_type": "code",
      "metadata": {
        "id": "CwYDXtPuJV5B"
      },
      "source": [
        "displaySegment(img)"
      ],
      "execution_count": null,
      "outputs": []
    },
    {
      "cell_type": "markdown",
      "metadata": {
        "id": "jG-P7GwdJaXD"
      },
      "source": [
        "### Combining Smoothing and Segmenting\n",
        "\n",
        "The cell below defines a function to smooth and then segment an image. It will output the original image, the segmented image, and the image after smoothing and then segmenting it."
      ]
    },
    {
      "cell_type": "code",
      "metadata": {
        "id": "N_d3XdxcJan7"
      },
      "source": [
        "def plotSmoothThenSegment(img1):\n",
        "    img2=Smooth(img1)\n",
        "    img3=Segment(img2)\n",
        "    fig, (ax1,ax2, ax3) = plt.subplots(nrows=1, ncols=3, figsize=(15, 4),sharex=True,\\\n",
        "                                      sharey=True)\n",
        "    ax1.imshow(img1, cmap=plt.cm.gray)\n",
        "    ax1.axis('off')\n",
        "    ax1.set_title('Original Image', fontsize=10)\n",
        "    ax2.imshow(img2, cmap=plt.cm.gray)\n",
        "    ax2.axis('off')\n",
        "    ax2.set_title('Smoothed Image', fontsize=10)\n",
        "    ax3.imshow(img3, cmap=plt.cm.gray)\n",
        "    ax3.axis('off')\n",
        "    ax3.set_title('Smoothed Then Segmented Image', fontsize=10)\n",
        "    fig.tight_layout()\n",
        "    plt.show() "
      ],
      "execution_count": 39,
      "outputs": []
    },
    {
      "cell_type": "markdown",
      "metadata": {
        "id": "ffcBTncEJeEO"
      },
      "source": [
        "Running the following cell will execute that function plotSmoothThenSegment() using the image."
      ]
    },
    {
      "cell_type": "code",
      "metadata": {
        "id": "9-9fAJE3JeUp"
      },
      "source": [
        "plotSmoothThenSegment(img)"
      ],
      "execution_count": null,
      "outputs": []
    },
    {
      "cell_type": "markdown",
      "metadata": {
        "id": "XzmuhzQlJigd"
      },
      "source": [
        "## 2.Segment then Canny\n",
        "\n",
        "This section will allow you to segment images and do edge detection for images."
      ]
    },
    {
      "cell_type": "markdown",
      "metadata": {
        "id": "z7lT3sp0Jla1"
      },
      "source": [
        "For those of you interested in the code, the segmentation algorithm is threshold Yen and the edge detection algorithm is called Canny edge detection.\n",
        "\n",
        "The following cell contains some predefined functions to implement segmentation and edge detection. Please make sure you have run this cell before you run the next cells in this notebook.\n",
        "\n",
        "\n",
        "\n"
      ]
    },
    {
      "cell_type": "code",
      "metadata": {
        "id": "EBREJqAdJiyB"
      },
      "source": [
        "def loadIMG():\n",
        "    filename=input(\"Please input the image filename:\")\n",
        "    sigma=\"0\",\"1\",\"2\"\n",
        "    img = io.imread(filename)\n",
        "    return img,sigma\n",
        "\n",
        "def CannyEdge(img,sigma):\n",
        "    plt.clf()\n",
        "    if len(img.shape)!=2:\n",
        "        img1 = color.rgb2gray(img)\n",
        "    edges1 = feature.canny(img1, sigma=float(sigma[0]))\n",
        "    edges2 = feature.canny(img1, sigma=float(sigma[1]))\n",
        "    edges3 = feature.canny(img1, sigma=float(sigma[2]))\n",
        "    fig, (ax1,ax2,ax3,ax4) = plt.subplots(nrows=1, ncols=4, figsize=(12, 3),sharex=True, sharey=True)\n",
        "    ax1.imshow(img, cmap=plt.cm.gray)\n",
        "    ax1.axis('off')\n",
        "    ax1.set_title('Original Image', fontsize=10)\n",
        "    ax2.imshow(edges1, cmap=plt.cm.gray)\n",
        "    ax2.axis('off')\n",
        "    ax2.set_title('Canny Edge Image, $\\sigma=$'+sigma[0], fontsize=10)\n",
        "    ax3.imshow(edges2, cmap=plt.cm.gray)\n",
        "    ax3.axis('off')\n",
        "    ax3.set_title('Canny Edge Image, $\\sigma=$'+sigma[1], fontsize=10)\n",
        "    ax4.imshow(edges3, cmap=plt.cm.gray)\n",
        "    ax4.axis('off')\n",
        "    ax4.set_title('Canny Edge Image, $\\sigma=$'+sigma[2], fontsize=10)\n",
        "    fig.tight_layout()\n",
        "    plt.savefig('Edge Detection.png',dpi=300) \n",
        "    plt.show()  \n"
      ],
      "execution_count": 48,
      "outputs": []
    },
    {
      "cell_type": "markdown",
      "metadata": {
        "id": "kDuvd6ae5usB"
      },
      "source": [
        "Below: Load the image with again-"
      ]
    },
    {
      "cell_type": "code",
      "metadata": {
        "id": "U9LHdJD25WpK"
      },
      "source": [
        "img,sigma=loadIMG()"
      ],
      "execution_count": null,
      "outputs": []
    },
    {
      "cell_type": "markdown",
      "metadata": {
        "id": "maU0bhHFJrFl"
      },
      "source": [
        "### Canny Edge Detection with Different Parameters "
      ]
    },
    {
      "cell_type": "markdown",
      "metadata": {
        "id": "x78YhW7qJtyE"
      },
      "source": [
        "The following cell will detect the edges of a given image. Sigma is the standard deviation for the Gaussian filter in Canny edge detection."
      ]
    },
    {
      "cell_type": "code",
      "metadata": {
        "id": "iZLi1msJJrWU"
      },
      "source": [
        "CannyEdge(img, sigma)"
      ],
      "execution_count": null,
      "outputs": []
    },
    {
      "cell_type": "markdown",
      "metadata": {
        "id": "Lyb5QtimJyRj"
      },
      "source": [
        "### Combining Segmenting and Edge Detection\n",
        "\n",
        "The cell below defines a function to segment an image and then detect its edges. It will output the original image, the image after segmentation, and the image after segmenting and then detecting its edges."
      ]
    },
    {
      "cell_type": "code",
      "metadata": {
        "id": "57jHaD8NJymb"
      },
      "source": [
        "def loadIMG():\n",
        "    filename=input(\"Please input the image filename:\")\n",
        "    img = io.imread(filename)\n",
        "    return img\n",
        "\n",
        "def CannyEdge(img,sigma):\n",
        "    if len(img.shape)!=2:\n",
        "        img = color.rgb2gray(img)\n",
        "    edges = feature.canny(img, sigma)\n",
        "    return edges\n",
        "\n",
        "def displaySegmentThenCanny(img,sigma):\n",
        "    plt.clf()\n",
        "    segmentation=Segment(img)\n",
        "    edges=CannyEdge(segmentation,sigma)\n",
        "    fig, (ax1,ax2,ax3) = plt.subplots(nrows=1, ncols=3, figsize=(15, 4),sharex=True, \\\n",
        "                                      sharey=True)\n",
        "    ax1.imshow(img, cmap=plt.cm.gray)\n",
        "    ax1.axis('off')\n",
        "    ax1.set_title('Original Image', fontsize=10)\n",
        "    ax2.imshow(segmentation, cmap=plt.cm.gray)\n",
        "    ax2.axis('off')\n",
        "    ax2.set_title('Segmented Image', fontsize=10)\n",
        "    ax3.imshow(edges, cmap=plt.cm.gray)\n",
        "    ax3.axis('off')\n",
        "    ax3.set_title('Segmented then Edged Image, $\\sigma=$'+str(sigma), fontsize=10)\n",
        "    fig.tight_layout()\n",
        "    plt.savefig('Segmenting and Edge Detection.png',dpi=300) \n",
        "    plt.show() "
      ],
      "execution_count": 51,
      "outputs": []
    },
    {
      "cell_type": "markdown",
      "metadata": {
        "id": "b-KzKqFIJ4QN"
      },
      "source": [
        "Running the following cell will execute that function displaySegmentThenCanny() using the image."
      ]
    },
    {
      "cell_type": "code",
      "metadata": {
        "id": "ucgujoZ1J4ic"
      },
      "source": [
        "sigma0, sigma1, sigma2=0,1,2\n",
        "displaySegmentThenCanny(img,sigma0)\n",
        "displaySegmentThenCanny(img,sigma1)\n",
        "displaySegmentThenCanny(img,sigma2)"
      ],
      "execution_count": null,
      "outputs": []
    },
    {
      "cell_type": "code",
      "metadata": {
        "id": "56-6vgo41FU9"
      },
      "source": [
        ""
      ],
      "execution_count": null,
      "outputs": []
    }
  ]
}
