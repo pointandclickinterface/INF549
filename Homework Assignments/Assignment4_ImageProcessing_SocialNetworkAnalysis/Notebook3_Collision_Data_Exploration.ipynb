{
  "nbformat": 4,
  "nbformat_minor": 0,
  "metadata": {
    "colab": {
      "name": "Notebook3_Collision_Data_Exploration.ipynb",
      "provenance": []
    },
    "kernelspec": {
      "display_name": "Python 3",
      "language": "python",
      "name": "python3"
    },
    "language_info": {
      "codemirror_mode": {
        "name": "ipython",
        "version": 3
      },
      "file_extension": ".py",
      "mimetype": "text/x-python",
      "name": "python",
      "nbconvert_exporter": "python",
      "pygments_lexer": "ipython3",
      "version": "3.8.3"
    }
  },
  "cells": [
    {
      "cell_type": "markdown",
      "metadata": {
        "colab_type": "text",
        "id": "iNTcBK9zULOI"
      },
      "source": [
        "# Collision Data Exploration"
      ]
    },
    {
      "cell_type": "markdown",
      "metadata": {
        "colab_type": "text",
        "id": "g9oI3OEmWCnW"
      },
      "source": [
        "The goal of this exercise is to visualize and understand the data before further processing.\n",
        "\n",
        "The dataset is available from https://data.lacity.org/A-Safe-City/Traffic-Collision-Data-from-2010-to-Present/d5tf-ez2w. You can try to download directly using wget. If the connection fails, download manually onto your computer and upload to Collab. If you do so, make sure to name the file: 'Traffic_Collision_Data.csv'"
      ]
    },
    {
      "cell_type": "code",
      "metadata": {
        "id": "xyz3nVcTdmXu",
        "colab_type": "code",
        "colab": {}
      },
      "source": [
        "pip install wget"
      ],
      "execution_count": null,
      "outputs": []
    },
    {
      "cell_type": "code",
      "metadata": {
        "id": "jjdYFJwydmXz",
        "colab_type": "code",
        "colab": {}
      },
      "source": [
        "import wget\n",
        "wget.download('https://data.lacity.org/api/views/d5tf-ez2w/rows.csv?accessType=DOWNLOAD','Traffic_Collision_Data.csv')"
      ],
      "execution_count": null,
      "outputs": []
    },
    {
      "cell_type": "markdown",
      "metadata": {
        "id": "xpqfSRSQdmX2",
        "colab_type": "text"
      },
      "source": [
        "## Exploring the tabular data - Manipulating Dataframes\n",
        "\n",
        "The collision data is time series data stored in tabular format. The cell below prints out the name of the columns in the csv and the first few rows of the table."
      ]
    },
    {
      "cell_type": "code",
      "metadata": {
        "colab_type": "code",
        "id": "0bk76KRQUM2T",
        "colab": {}
      },
      "source": [
        "import pandas as pd\n",
        "import numpy as np\n",
        "import seaborn as sns\n",
        "import matplotlib.pyplot as plt\n",
        "import plotly.offline as py\n",
        "py.init_notebook_mode(connected=True)\n",
        "import plotly.graph_objs as go\n",
        "import plotly.tools as tls\n",
        "import datetime\n",
        "df = pd.read_csv(\"Traffic_Collision_Data.csv\")\n",
        "df.head()"
      ],
      "execution_count": null,
      "outputs": []
    },
    {
      "cell_type": "markdown",
      "metadata": {
        "id": "l0fR-93vdmX7",
        "colab_type": "text"
      },
      "source": [
        "Use the following cell to get a sense of the size of the dataset."
      ]
    },
    {
      "cell_type": "code",
      "metadata": {
        "colab_type": "code",
        "id": "snCgmi39UQb2",
        "colab": {}
      },
      "source": [
        "df.shape"
      ],
      "execution_count": null,
      "outputs": []
    },
    {
      "cell_type": "markdown",
      "metadata": {
        "id": "ghkB5elOdmYA",
        "colab_type": "text"
      },
      "source": [
        "If you're interested in the code, the csv was imported into a [pandas](https://pandas.pydata.org) dataframe. Pandas is a widly use library to deal with this kind of data. The `df.info()` function allows you to output the name of the columns, the number of non-null values in each column, giving you a quick overview about the number of missing data, as well as the format of the data. "
      ]
    },
    {
      "cell_type": "code",
      "metadata": {
        "colab_type": "code",
        "id": "dS8Zb_dLUTOJ",
        "colab": {}
      },
      "source": [
        "df.info()"
      ],
      "execution_count": null,
      "outputs": []
    },
    {
      "cell_type": "code",
      "metadata": {
        "colab_type": "code",
        "id": "odo4HPuLUWlo",
        "colab": {}
      },
      "source": [
        "df.isnull().sum()"
      ],
      "execution_count": null,
      "outputs": []
    },
    {
      "cell_type": "markdown",
      "metadata": {
        "id": "TY-uNz_IdmYI",
        "colab_type": "text"
      },
      "source": [
        "The follwing cell allows you to transform the time stamp into the datetime format, which is used by many python libraries. "
      ]
    },
    {
      "cell_type": "code",
      "metadata": {
        "colab_type": "code",
        "id": "vypdX-_lUY_d",
        "colab": {}
      },
      "source": [
        "df['Date Reported'] = pd.to_datetime(df['Date Reported']).dt.year \n",
        "df['Date Occurred'] = pd.to_datetime(df['Date Occurred']).dt.year\n",
        "df.head()"
      ],
      "execution_count": null,
      "outputs": []
    },
    {
      "cell_type": "markdown",
      "metadata": {
        "id": "jb50mqymdmYM",
        "colab_type": "text"
      },
      "source": [
        "## Number of collisions through time\n",
        "\n",
        "This chart summarizes the trend in collisions over the past decade.\n"
      ]
    },
    {
      "cell_type": "code",
      "metadata": {
        "colab_type": "code",
        "id": "9peEAJ1rUb1t",
        "scrolled": true,
        "colab": {}
      },
      "source": [
        "plt.subplots(figsize = (20,5))\n",
        "# We have skiped 2023 because it doesn't have the entire year's data. \n",
        "df1 = df[(df['Date Occurred'].isin(['2010', '2011', '2012', '2013', '2014', '2015', '2016', '2017', '2018', '2019', '2020', '2021', '2022']))]\n",
        "sns.countplot(x=df1['Date Occurred'])\n",
        "plt.title('Collisions per year') \n",
        "# sns.countplot(x=df['Date Occurred'])\n",
        "plt.show()"
      ],
      "execution_count": null,
      "outputs": []
    },
    {
      "cell_type": "markdown",
      "metadata": {
        "id": "nCWSq4t6dmYR",
        "colab_type": "text"
      },
      "source": [
        "## Location of collisions"
      ]
    },
    {
      "cell_type": "code",
      "metadata": {
        "colab_type": "code",
        "id": "RXjN26cAUexO",
        "colab": {}
      },
      "source": [
        "df['Premise Description'].value_counts().head(10)"
      ],
      "execution_count": null,
      "outputs": []
    },
    {
      "cell_type": "markdown",
      "metadata": {
        "id": "od9RG8x9dmYV",
        "colab_type": "text"
      },
      "source": [
        "## Collisions by age group"
      ]
    },
    {
      "cell_type": "code",
      "metadata": {
        "colab_type": "code",
        "id": "Szj5ONv7UhK9",
        "colab": {}
      },
      "source": [
        "plt.subplots(figsize = (15,7))\n",
        "sns.countplot(x=df['Victim Age'].sort_values(ascending = False))\n",
        "plt.title('Collisions by Victim Age') \n",
        "plt.xticks(rotation = 90)\n",
        "plt.show()"
      ],
      "execution_count": null,
      "outputs": []
    },
    {
      "cell_type": "markdown",
      "metadata": {
        "id": "_LEp1evmdmYZ",
        "colab_type": "text"
      },
      "source": [
        "## Collisions by time of day"
      ]
    },
    {
      "cell_type": "code",
      "metadata": {
        "colab_type": "code",
        "id": "zVv9nm22UmOt",
        "colab": {}
      },
      "source": [
        "import datetime as dt\n",
        "def convert(x):\n",
        "  return dt.datetime.strptime(x, '%H:%M')\n",
        "  \n",
        "def getTime(t):\n",
        "    t = str(t)\n",
        "    if len(t)==1:\n",
        "      return t[0]+':'+'00'\n",
        "    if len(t)<4:\n",
        "      return t[:1] + ':' + t[1:]\n",
        "    else:\n",
        "      return t[:2] + ':' + t[2:]"
      ],
      "execution_count": null,
      "outputs": []
    },
    {
      "cell_type": "code",
      "metadata": {
        "colab_type": "code",
        "id": "Jf_Y-si9UoeK",
        "colab": {}
      },
      "source": [
        "df['Time Occurred']= df['Time Occurred'].apply(getTime)\n",
        "\n",
        "df['Time Occurred']=df['Time Occurred'].apply(convert)"
      ],
      "execution_count": null,
      "outputs": []
    },
    {
      "cell_type": "code",
      "metadata": {
        "colab_type": "code",
        "id": "LE0vmpAMUq2M",
        "colab": {}
      },
      "source": [
        "hours = [t.hour for t in df['Time Occurred'] ]\n",
        "numbers=[x for x in range(0,24)]\n",
        "labels=map(lambda x: str(x), numbers)\n",
        "plt.subplots(figsize = (15,6))\n",
        "sns.countplot(x=hours)"
      ],
      "execution_count": null,
      "outputs": []
    }
  ]
}
