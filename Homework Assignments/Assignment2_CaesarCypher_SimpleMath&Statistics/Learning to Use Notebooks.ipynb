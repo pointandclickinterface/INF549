{
 "cells": [
  {
   "cell_type": "markdown",
   "metadata": {
    "collapsed": true
   },
   "source": [
    "# Learning to Use Notebooks"
   ]
  },
  {
   "cell_type": "markdown",
   "metadata": {
    "collapsed": true
   },
   "source": [
    "In this assigment, you will learn to use notebooks by praticing some simple functions. The goal of this notebook is to explore how data analysis is done within notebooks, how to set up and run notebooks and how to see the results. \n",
    "\n",
    "The Jupyter Notebook is an open source application that allows you to create and share documents that contain live code, equations, visualizations and narrative text. The notebooks run in your browser, as well as in your local machine.\n",
    "\n",
    "For this homework you should run the following four notebooks in this directory:\n",
    "\n",
    "1. Running Functions.ipynb\n",
    "2. Summarizing Data.ipynb\n",
    "3. Visualizing Data.ipynb\n",
    "4. Reading Files as an Input.ipynb\n"
   ]
  },
  {
   "cell_type": "code",
   "execution_count": null,
   "metadata": {
    "collapsed": true
   },
   "outputs": [],
   "source": []
  }
 ],
 "metadata": {
  "anaconda-cloud": {},
  "kernelspec": {
   "display_name": "Python 3",
   "language": "python",
   "name": "python3"
  },
  "language_info": {
   "codemirror_mode": {
    "name": "ipython",
    "version": 3
   },
   "file_extension": ".py",
   "mimetype": "text/x-python",
   "name": "python",
   "nbconvert_exporter": "python",
   "pygments_lexer": "ipython3",
   "version": "3.6.3"
  }
 },
 "nbformat": 4,
 "nbformat_minor": 2
}
